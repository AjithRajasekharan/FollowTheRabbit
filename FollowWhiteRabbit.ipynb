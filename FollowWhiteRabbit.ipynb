{
 "cells": [
  {
   "cell_type": "code",
   "execution_count": null,
   "metadata": {
    "collapsed": true
   },
   "outputs": [],
   "source": [
    "import pandas as pd\n",
    "import re\n",
    "import itertools as it\n",
    "import numpy as np\n",
    "import hashlib"
   ]
  },
  {
   "cell_type": "code",
   "execution_count": null,
   "metadata": {
    "collapsed": true
   },
   "outputs": [],
   "source": [
    "words=pd.read_csv('data\\wordlist.csv')"
   ]
  },
  {
   "cell_type": "code",
   "execution_count": null,
   "metadata": {
    "collapsed": true
   },
   "outputs": [],
   "source": [
    "def checkname(word):\n",
    "    word=str(word)\n",
    "    regex = r\"[^poultrywisan]\"\n",
    "    result=re.search(regex, word)\n",
    "    if result or len(word)>16 or  word.count('p')>1 or word.count('o')>2 or word.count('u')>2 or word.count('l')>1 or word.count('t')>4 or word.count('r')>1 or word.count('y')>1 or word.count('w')>1 or word.count('i')>1 or word.count('s')>2 or word.count('a')>1 or word.count('n')>1 :\n",
    "            return 0\n",
    "    else:\n",
    "        return word\n",
    "\n",
    "words=words[words.a.apply(checkname)!=0]\n",
    "words=words.drop_duplicates(subset=['a'], keep='first')"
   ]
  },
  {
   "cell_type": "code",
   "execution_count": null,
   "metadata": {
    "collapsed": true,
    "scrolled": true
   },
   "outputs": [],
   "source": [
    "def PermuteAndHash(noOfWords,maxChars):\n",
    "    print('running ')\n",
    "    perms = it.permutations(words.a, noOfWords)\n",
    "    done=object()\n",
    "    nextperm=next(perms,done)\n",
    "    counter=0\n",
    "    while(nextperm is not done):\n",
    "        stringToEncode=' '.join(nextperm)\n",
    "        if(len(stringToEncode)==(maxChars+(noOfWords-1)) and  stringToEncode.count('p')==1 and stringToEncode.count('o')==2 and stringToEncode.count('u')==2 and stringToEncode.count('l')==1 and stringToEncode.count('t')==4 and stringToEncode.count('r')==1 and stringToEncode.count('y')==1 and stringToEncode.count('w')==1 and stringToEncode.count('i')==1 or stringToEncode.count('s')==2 and stringToEncode.count('a')==1 and stringToEncode.count('n')==1 ):\n",
    "            if(counter%10000000==0):\n",
    "                print(counter)\n",
    "            counter=counter+1\n",
    "            md5=hashlib.md5(stringToEncode.encode('utf-8')).hexdigest()\n",
    "            if(md5=='e4820b45d2277f3844eac66c903e84be' or md5== '23170acc097c24edb98fc5488ab033fe' or md5=='665e5bcb0c20062fe8abaaf4628bb154'):\n",
    "                print(stringToEncode+\" \"+md5)\n",
    "        nextperm=next(perms,done)\n",
    "    \n",
    "\n",
    "    "
   ]
  },
  {
   "cell_type": "code",
   "execution_count": null,
   "metadata": {},
   "outputs": [],
   "source": [
    "words.info()"
   ]
  },
  {
   "cell_type": "code",
   "execution_count": null,
   "metadata": {},
   "outputs": [],
   "source": [
    "PermuteAndHash(3,18)"
   ]
  },
  {
   "cell_type": "code",
   "execution_count": null,
   "metadata": {},
   "outputs": [],
   "source": [
    "PermuteAndHash(4,18)"
   ]
  }
 ],
 "metadata": {
  "kernelspec": {
   "display_name": "Python 3",
   "language": "python",
   "name": "python3"
  },
  "language_info": {
   "codemirror_mode": {
    "name": "ipython",
    "version": 3
   },
   "file_extension": ".py",
   "mimetype": "text/x-python",
   "name": "python",
   "nbconvert_exporter": "python",
   "pygments_lexer": "ipython3",
   "version": "3.6.3"
  }
 },
 "nbformat": 4,
 "nbformat_minor": 2
}
